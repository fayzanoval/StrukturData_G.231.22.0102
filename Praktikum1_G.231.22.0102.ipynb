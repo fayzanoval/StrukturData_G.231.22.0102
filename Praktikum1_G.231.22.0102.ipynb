{
 "cells": [
  {
   "cell_type": "code",
   "execution_count": 8,
   "id": "2b43e772",
   "metadata": {},
   "outputs": [
    {
     "name": "stdout",
     "output_type": "stream",
     "text": [
      "Isi vincent_friends indeks ke-3 adalah:Carel\n",
      "Semua teman: ada 5 orang\n",
      "Afriyan\n",
      "Azka\n",
      "Faiq\n",
      "Carel\n",
      "Jovita\n"
     ]
    }
   ],
   "source": [
    "vincent_friends = [\"Afriyan\", \"Azka\", \"Faiq\", \"Carel\", \"Jovita\"]\n",
    "\n",
    "print(\"Isi vincent_friends indeks ke-3 adalah:{}\".format(vincent_friends[3]))\n",
    "\n",
    "print(\"Semua teman: ada {} orang\".format(len(vincent_friends)))\n",
    "\n",
    "for friend in vincent_friends: \n",
    "    print(friend)"
   ]
  },
  {
   "cell_type": "code",
   "execution_count": 3,
   "id": "7eb31ffe",
   "metadata": {},
   "outputs": [
    {
     "name": "stdout",
     "output_type": "stream",
     "text": [
      "List Nilai: \n",
      " [1, 2, 3, 4, 5, 6, 7, 8, 9, 10]\n",
      "\n",
      "Jumlah Index list nilai (len) : \n",
      " 10\n",
      "\n",
      "Jumlah Nilai 5 Dalam List (count) : \n",
      " 1\n",
      "\n",
      "Menambah element dalam list (append) : \n",
      "List Nilai :  [1, 2, 3, 4, 5, 6, 7, 8, 9, 10, 12, 10]\n",
      "\n",
      "Index ke 8 (index) : \n",
      " 7\n",
      "\n",
      "Tambah Nilai List (Insert) : \n",
      " [1, 12, 2, 3, 4, 5, 6, 7, 8, 9, 10, 12, 10]\n",
      "\n",
      "List Nilai (pop) : \n",
      " [1, 12, 2, 3, 4, 5, 6, 7, 8, 9, 10]\n",
      "\n",
      "List Nilai (remove) : \n",
      " [12, 3, 4, 5, 6, 7, 8, 9, 10]\n",
      "\n",
      "List Nilai (extend : \n",
      " [12, 3, 4, 5, 6, 7, 8, 9, 10, 4, 3, 8, 7]\n",
      "\n",
      "List Nilai (reverse) : \n",
      " [7, 8, 3, 4, 10, 9, 8, 7, 6, 5, 4, 3, 12]\n",
      "\n",
      "List Nilai (sort) : \n",
      " [3, 3, 4, 4, 5, 6, 7, 7, 8, 8, 9, 10, 12]\n",
      "\n",
      "Nilai Terbanyak (max) : \n",
      " 12\n",
      "\n",
      "Nilai terendah (min) : \n",
      " 3\n",
      "\n",
      "Total penjumlahan nilai dari list_nilai (sum) : \n",
      " 86\n"
     ]
    }
   ],
   "source": [
    "#Deklarasi List\n",
    "list_nilai = [1,2,3,4,5,6,7,8,9,10]\n",
    "\n",
    "#tampilkan list\n",
    "print(\"List Nilai: \\n\",list_nilai)\n",
    "\n",
    "#menggunakan len\n",
    "print(\"\\nJumlah Index list nilai (len) : \\n\", len(list_nilai))\n",
    "\n",
    "#menggunakan count\n",
    "print(\"\\nJumlah Nilai 5 Dalam List (count) : \\n\", list_nilai.count(5))\n",
    "\n",
    "#Menggunakan append\n",
    "print(\"\\nMenambah element dalam list (append) : \")\n",
    "list_nilai.append(12)\n",
    "list_nilai.append(10)\n",
    "print(\"List Nilai : \",list_nilai)\n",
    "\n",
    "#Menggunakan index\n",
    "print(\"\\nIndex ke 8 (index) : \\n\", list_nilai.index(8))\n",
    "\n",
    "#Menggunakan insert\n",
    "list_nilai.insert(1,12)\n",
    "print(\"\\nTambah Nilai List (Insert) : \\n\", list_nilai)\n",
    "\n",
    "#Menggunakan pop\n",
    "list_nilai.pop()\n",
    "list_nilai.pop()\n",
    "print(\"\\nList Nilai (pop) : \\n\",list_nilai)\n",
    "\n",
    "#Menggunakan remove\n",
    "list_nilai.remove(2)\n",
    "list_nilai.remove(1)\n",
    "print(\"\\nList Nilai (remove) : \\n\", list_nilai)\n",
    "\n",
    "#Menggunakan extend\n",
    "list_nilai2 = [4,3,8,7]\n",
    "list_nilai.extend(list_nilai2)\n",
    "print(\"\\nList Nilai (extend : \\n\", list_nilai)\n",
    "\n",
    "#Menggunakan reverse\n",
    "list_nilai.reverse()\n",
    "print(\"\\nList Nilai (reverse) : \\n\", list_nilai)\n",
    "\n",
    "#Menggunakan sort\n",
    "list_nilai.sort()\n",
    "print(\"\\nList Nilai (sort) : \\n\", list_nilai)\n",
    "\n",
    "#Menggunakan Max\n",
    "print(\"\\nNilai Terbanyak (max) : \\n\", max(list_nilai))\n",
    "\n",
    "#Mengguankan min\n",
    "print(\"\\nNilai terendah (min) : \\n\", min(list_nilai))\n",
    "\n",
    "#Menggunakan Sum\n",
    "print(\"\\nTotal penjumlahan nilai dari list_nilai (sum) : \\n\", sum(list_nilai))"
   ]
  },
  {
   "cell_type": "code",
   "execution_count": null,
   "id": "65f342d2",
   "metadata": {},
   "outputs": [],
   "source": []
  }
 ],
 "metadata": {
  "kernelspec": {
   "display_name": "Python 3 (ipykernel)",
   "language": "python",
   "name": "python3"
  },
  "language_info": {
   "codemirror_mode": {
    "name": "ipython",
    "version": 3
   },
   "file_extension": ".py",
   "mimetype": "text/x-python",
   "name": "python",
   "nbconvert_exporter": "python",
   "pygments_lexer": "ipython3",
   "version": "3.9.13"
  }
 },
 "nbformat": 4,
 "nbformat_minor": 5
}
