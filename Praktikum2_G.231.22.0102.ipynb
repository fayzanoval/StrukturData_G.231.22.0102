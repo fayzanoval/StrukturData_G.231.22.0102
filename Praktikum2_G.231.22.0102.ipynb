{
 "cells": [
  {
   "cell_type": "code",
   "execution_count": 1,
   "id": "30e34c1b",
   "metadata": {},
   "outputs": [
    {
     "name": "stdout",
     "output_type": "stream",
     "text": [
      "[5, 1, 4, 2, 8, 10, 3]\n",
      "[5, 1, 4, 2, 8, 10, 3]\n"
     ]
    }
   ],
   "source": [
    "def selectNumber(numlist):\n",
    "    for numslot in range(0,len(numlist)-1):\n",
    "     position = numslot\n",
    "     for region in range(numslot+1,len(numlist)):\n",
    "        if numlist[region]<numlist[region]:\n",
    "           position = region\n",
    "            \n",
    "    temp = numlist[numslot]\n",
    "    numlist[numslot] = numlist[position]\n",
    "    numlist[position] = temp\n",
    "    print(numlist)\n",
    "numb = [5,1,4,2,8,10,3]\n",
    "selectNumber(numb)\n",
    "print(numb)"
   ]
  },
  {
   "cell_type": "code",
   "execution_count": 2,
   "id": "64db6d7d",
   "metadata": {},
   "outputs": [
    {
     "name": "stdout",
     "output_type": "stream",
     "text": [
      "Daftar Buah:\n",
      "1. Apel - Harga: 6000 per kg\n",
      "2. Jeruk - Harga: 4000 per kg\n",
      "3. Pisang - Harga: 4500 per kg\n",
      "4. Mangga - Harga: 7000 per kg\n",
      "5. Semangka - Harga: 11000 per kg\n",
      "Masukkan nomor buah yang ingin dibeli: 5\n",
      "Masukkan jumlah buah yang ingin dibeli (dalam kg): 6\n",
      "Total harga untuk 6.0 kg Semangka adalah 66000.0 rupiah.\n"
     ]
    }
   ],
   "source": [
    "daftar_buah = (\n",
    "    ('Apel', 6000),\n",
    "    ('Jeruk', 4000),\n",
    "    ('Pisang', 4500),\n",
    "    ('Mangga', 7000),\n",
    "    ('Semangka', 11000)\n",
    ")\n",
    "\n",
    "print(\"Daftar Buah:\")\n",
    "for i, (nama_buah, harga) in enumerate(daftar_buah, start=1):\n",
    "    print(f\"{i}. {nama_buah} - Harga: {harga} per kg\")\n",
    "\n",
    "nomor_pilihan = int(input(\"Masukkan nomor buah yang ingin dibeli: \"))\n",
    "jumlah_buah = float(input(\"Masukkan jumlah buah yang ingin dibeli (dalam kg): \"))\n",
    "\n",
    "# Menghitung total harga\n",
    "if 1 <= nomor_pilihan <= len(daftar_buah):\n",
    "    pilihan = daftar_buah[nomor_pilihan - 1]\n",
    "    total_harga = pilihan[1] * jumlah_buah\n",
    "    print(f\"Total harga untuk {jumlah_buah} kg {pilihan[0]} adalah {total_harga} rupiah.\")\n",
    "else:\n",
    "    print(\"Nomor yang Anda masukkan tidak valid. Silakan coba lagi.\")"
   ]
  },
  {
   "cell_type": "code",
   "execution_count": 3,
   "id": "33259992",
   "metadata": {},
   "outputs": [
    {
     "name": "stdout",
     "output_type": "stream",
     "text": [
      "Data mahasiswa dengan NIM G.231.22.0100 berhasil ditambahkan.\n",
      "Data mahasiswa dengan NIM F.231.22.0097 berhasil ditambahkan.\n",
      "Data mahasiswa dengan NIM H.231.22.0050 berhasil ditambahkan.\n",
      "Data seluruh mahasiswa:\n",
      "NIM: G.231.22.0100, Nama: Afriyan, Program Studi: Teknik Informatika\n",
      "NIM: F.231.22.0097, Nama: Sherina, Program Studi: Sistem Informasi\n",
      "NIM: H.231.22.0050, Nama: Azka, Program Studi: Teknik Elektro\n"
     ]
    }
   ],
   "source": [
    "database_mahasiswa = {}\n",
    "\n",
    "def tambah_mahasiswa(nama, nim, prodi):\n",
    "    if nim not in database_mahasiswa:\n",
    "        database_mahasiswa[nim] = {'Nama': nama, 'Prodi': prodi}\n",
    "        print(f\"Data mahasiswa dengan NIM {nim} berhasil ditambahkan.\")\n",
    "    else:\n",
    "        print(f\"Mahasiswa dengan NIM {nim} sudah ada di dalam database.\")\n",
    "\n",
    "def tampilkan_semua_mahasiswa():\n",
    "    if database_mahasiswa:\n",
    "        print(\"Data seluruh mahasiswa:\")\n",
    "        for nim, data in database_mahasiswa.items():\n",
    "            print(f\"NIM: {nim}, Nama: {data['Nama']}, Program Studi: {data['Prodi']}\")\n",
    "    else:\n",
    "        print(\"Database mahasiswa kosong.\")\n",
    "\n",
    "tambah_mahasiswa('Afriyan', 'G.231.22.0100', 'Teknik Informatika')\n",
    "tambah_mahasiswa('Sherina', 'F.231.22.0097', 'Sistem Informasi')\n",
    "tambah_mahasiswa('Azka', 'H.231.22.0050', 'Teknik Elektro')\n",
    "\n",
    "tampilkan_semua_mahasiswa()"
   ]
  }
 ],
 "metadata": {
  "kernelspec": {
   "display_name": "Python 3 (ipykernel)",
   "language": "python",
   "name": "python3"
  },
  "language_info": {
   "codemirror_mode": {
    "name": "ipython",
    "version": 3
   },
   "file_extension": ".py",
   "mimetype": "text/x-python",
   "name": "python",
   "nbconvert_exporter": "python",
   "pygments_lexer": "ipython3",
   "version": "3.9.13"
  }
 },
 "nbformat": 4,
 "nbformat_minor": 5
}
