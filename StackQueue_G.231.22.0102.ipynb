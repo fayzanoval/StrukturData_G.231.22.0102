{
 "cells": [
  {
   "cell_type": "code",
   "execution_count": 1,
   "id": "adf087ec",
   "metadata": {},
   "outputs": [
    {
     "name": "stdout",
     "output_type": "stream",
     "text": [
      "deque(['Ram', 'Tarun', 'Asif', 'John'])\n",
      "deque(['Ram', 'Tarun', 'Asif', 'John', 'Akbar'])\n",
      "deque(['Ram', 'Tarun', 'Asif', 'John', 'Akbar', 'Birbal'])\n",
      "Ram\n",
      "Tarun\n",
      "deque(['Asif', 'John', 'Akbar', 'Birbal'])\n"
     ]
    }
   ],
   "source": [
    "# Queue\n",
    "\n",
    "#Digunakan untuk penambahan dan penghapusan elemen dari kedua ujung antrian \n",
    "from collections import deque\n",
    "#Membuat list antrian objek deque dengan nama queue\n",
    "queue = deque([\"Ram\", \"Tarun\", \"Asif\", \"John\"])\n",
    "print(queue)#Mencetak isi list antrian\n",
    "queue.append(\"Akbar\")#Menambahkan elemen \"Akbar\"\n",
    "print(queue)#Mencetak antrian setelah penambahan \"Akbar\"\n",
    "queue.append(\"Birbal\")#Menambahkan elemen \"Birbal\"\n",
    "print(queue)#Mencetak list antrian\n",
    "#Menghapus Ram dan mencetak antrian yang tersisa\n",
    "print(queue.popleft())\n",
    "#Menghapus Tarun dan mencetak antrian yang tersisa\n",
    "print(queue.popleft())\n",
    "#Mencentak deque\n",
    "print(queue)"
   ]
  },
  {
   "cell_type": "code",
   "execution_count": 5,
   "id": "5b715415",
   "metadata": {},
   "outputs": [
    {
     "name": "stdout",
     "output_type": "stream",
     "text": [
      "Pindah disk 1 dari A ke C\n",
      "Pindah disk 2 dari A ke B\n",
      "Pindah disk 1 dari C ke A\n",
      "Pindah disk 3 dari A ke C\n",
      "Pindah disk 1 dari B ke C\n",
      "Pindah disk 2 dari B ke A\n",
      "Pindah disk 1 dari C ke B\n"
     ]
    }
   ],
   "source": [
    "# Tower Of Hanoi\n",
    "\n",
    "#Mendefinisikan fungsi \"TowerOfHanoi\"\n",
    "#Memindahkan n dari \"dari\" ke \"menuju\" dengan bantuan \"bantuan\"\n",
    "def TowerOfHanoi(n, dari, menuju, bantuan):\n",
    "    if n == 0: #Untuk merekursi\n",
    "        return #Mengehentikan rekursi\n",
    "    #Memanggil parameter TowerOfHanoi, n dikurangi 1, \"bantuan\" dan \"menuju\" ditukar\n",
    "    TowerOfHanoi(n-1, dari, bantuan, menuju)\n",
    "    #Menampilkan langkah pemindahan\n",
    "    print(\"Pindah disk\", n, \"dari\", dari, \"ke\", menuju)\n",
    "    #Memanggil parameter TowerOfHanor, n dikurangi 1, \"dari\" dan \"menuju\" ditukar\n",
    "    TowerOfHanoi(n-1, bantuan, dari, menuju) \n",
    "\n",
    "N = 3 #Menginisialisasi variabel N, menunjukan untuk memindahkan 3 disk\n",
    "\n",
    "TowerOfHanoi(N, 'A', 'C', 'B') #Memanggil fungsi TowerOfHanoi"
   ]
  },
  {
   "cell_type": "code",
   "execution_count": 1,
   "id": "3b5bf9f5",
   "metadata": {},
   "outputs": [
    {
     "name": "stdout",
     "output_type": "stream",
     "text": [
      "5 10 15 45 "
     ]
    }
   ],
   "source": [
    "#Mengurutkan elemen-elemen pada stack menggunakan metode stack\n",
    "def sortStack(input):\n",
    "    tmpStack = []\n",
    "    while len(input) > 0:\n",
    "        tmp = input[-1]\n",
    "        input.pop()\n",
    "        \n",
    "        while len(tmpStack) > 0 and tmpStack[-1] < tmp:\n",
    "            input.append(tmpStack[-1])\n",
    "            tmpStack.pop()\n",
    "            \n",
    "        tmpStack.append(tmp)\n",
    "        \n",
    "    return tmpStack\n",
    "\n",
    "#Menggunakan stack untuk mengurutkan array\n",
    "def sortArrayUsingStacks(arr, n):\n",
    "    input_stack = []\n",
    "    i = 0\n",
    "    while i < n:\n",
    "        input_stack.append(arr[i])\n",
    "        i = i + 1\n",
    "        \n",
    "    tmpStack = sortStack(input_stack)\n",
    "    i = 0\n",
    "    \n",
    "    while i < n:\n",
    "        arr[i] = tmpStack[-1]\n",
    "        tmpStack.pop()\n",
    "        i = i + 1\n",
    "\n",
    "#Menguji algoritma pengurutan\n",
    "arr = [10, 5, 15, 45]\n",
    "n = len(arr)\n",
    "\n",
    "sortArrayUsingStacks(arr, n)\n",
    "i = 0\n",
    "\n",
    "while i < n:\n",
    "    print(arr[i], end=\" \")\n",
    "    i = i + 1\n"
   ]
  }
 ],
 "metadata": {
  "kernelspec": {
   "display_name": "Python 3 (ipykernel)",
   "language": "python",
   "name": "python3"
  },
  "language_info": {
   "codemirror_mode": {
    "name": "ipython",
    "version": 3
   },
   "file_extension": ".py",
   "mimetype": "text/x-python",
   "name": "python",
   "nbconvert_exporter": "python",
   "pygments_lexer": "ipython3",
   "version": "3.9.13"
  }
 },
 "nbformat": 4,
 "nbformat_minor": 5
}
