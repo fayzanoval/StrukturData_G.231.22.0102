{
 "cells": [
  {
   "cell_type": "code",
   "execution_count": 7,
   "id": "fe2d9aeb",
   "metadata": {},
   "outputs": [
    {
     "name": "stdout",
     "output_type": "stream",
     "text": [
      "The result from sorted array is:\n",
      "11 12 22 25 34 64 90 "
     ]
    }
   ],
   "source": [
    "## BUBBLE SORT\n",
    "def bubSort(array):\n",
    "    n = len(array)\n",
    "    swapped = False\n",
    "\n",
    "    # Looping untuk mengiterasi sebanyak n-1 kali\n",
    "    for i in range(n - 1):\n",
    "        # Looping untuk membandingkan dan menukar elemen\n",
    "        for j in range(0, n - i - 1):\n",
    "            # Membandingkan elemen pada indeks j dan j+1\n",
    "            if array[j] > array[j + 1]:\n",
    "                # Jika diketahui lebih besar, lakukan pertukaran\n",
    "                swapped = True\n",
    "                array[j], array[j + 1] = array[j + 1], array[j]\n",
    "\n",
    "        # Lalu cek apakah ada pertukaran selama iterasi\n",
    "        if not swapped:\n",
    "            # Jika tidak ada pertukaran, array sudah terurut, lalu iterasi diberhentikan\n",
    "            break\n",
    "\n",
    "#Untuk dilakukan pengujian bubbleSort\n",
    "MyListArray = [64, 34, 25, 12, 22, 11, 90]\n",
    "bubSort(MyListArray)\n",
    "\n",
    "#Menampilkan array yang sudah terurut\n",
    "print(\"The result from sorted array is:\")\n",
    "for i in range(len(MyListArray)):\n",
    "    print(\"%d\" % MyListArray[i], end=\" \")\n"
   ]
  },
  {
   "cell_type": "code",
   "execution_count": 8,
   "id": "2136e9b5",
   "metadata": {},
   "outputs": [
    {
     "name": "stdout",
     "output_type": "stream",
     "text": [
      "The result from sorted array is:\n",
      "11 12 22 25 64 "
     ]
    }
   ],
   "source": [
    "## SELECTION SORT\n",
    "import sys\n",
    "\n",
    "MyListArray = [64, 25, 12, 22, 11]\n",
    "\n",
    "# Loop untuk iterasi sebanyak panjang array\n",
    "for i in range(len(MyListArray)):\n",
    "    # Inisialisasi indeks minimum sebagai i\n",
    "    min_idx = i\n",
    "    \n",
    "    # Loop untuk mencari elemen minimum dari sisa array\n",
    "    for j in range(i + 1, len(MyListArray)):\n",
    "        # Membandingkan elemen pada indeks min_idx dan j\n",
    "        if MyListArray[min_idx] > MyListArray[j]:\n",
    "            # Jika elemen pada indeks j lebih kecil, update min_idx\n",
    "            min_idx = j\n",
    "    \n",
    "    # Melakukan pertukaran elemen untuk menempatkan elemen minimum pada posisi yang benar\n",
    "    MyListArray[i], MyListArray[min_idx] = MyListArray[min_idx], MyListArray[i]\n",
    "\n",
    "# Menampilkan array yang sudah terurut\n",
    "print(\"The result from sorted array is:\")\n",
    "for i in range(len(MyListArray)):\n",
    "    print(\"%d\" % MyListArray[i], end=\" \")"
   ]
  },
  {
   "cell_type": "code",
   "execution_count": 10,
   "id": "dce50f4a",
   "metadata": {},
   "outputs": [
    {
     "name": "stdout",
     "output_type": "stream",
     "text": [
      "5\n",
      "6\n",
      "11\n",
      "12\n",
      "13\n"
     ]
    }
   ],
   "source": [
    "## INSERTION SORT\n",
    "def insertionSort(myArray):\n",
    "    # Looping untuk mengiterasi sebanyak panjang array, dimulai dari indeks ke-1\n",
    "    for i in range(1, len(myArray)):\n",
    "        # Menyimpan nilai saat ini ke dalam key\n",
    "        key = myArray[i]\n",
    "        # Inisialisasi indeks j sebagai indeks sebelumnya dari i\n",
    "        j = i - 1\n",
    "\n",
    "        # Looping untuk memindahkan elemen-elemen yang lebih besar dari key ke kanan\n",
    "        while j >= 0 and key < myArray[j]:\n",
    "            myArray[j + 1] = myArray[j]\n",
    "            j -= 1\n",
    "        \n",
    "        # Menempatkan key pada posisi yang benar\n",
    "        myArray[j + 1] = key\n",
    "\n",
    "# Untuk menguji insertionSort\n",
    "myArray = [12, 11, 13, 5, 6]\n",
    "insertionSort(myArray)\n",
    "\n",
    "# Menampilkan array yang sudah terurut\n",
    "for i in range(len(myArray)):\n",
    "    print(\"%d\" % myArray[i])"
   ]
  }
 ],
 "metadata": {
  "kernelspec": {
   "display_name": "Python 3 (ipykernel)",
   "language": "python",
   "name": "python3"
  },
  "language_info": {
   "codemirror_mode": {
    "name": "ipython",
    "version": 3
   },
   "file_extension": ".py",
   "mimetype": "text/x-python",
   "name": "python",
   "nbconvert_exporter": "python",
   "pygments_lexer": "ipython3",
   "version": "3.9.13"
  }
 },
 "nbformat": 4,
 "nbformat_minor": 5
}
