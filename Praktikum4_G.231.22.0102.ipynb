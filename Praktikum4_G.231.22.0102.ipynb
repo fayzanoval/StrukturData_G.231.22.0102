{
 "cells": [
  {
   "cell_type": "code",
   "execution_count": 4,
   "id": "87877140",
   "metadata": {},
   "outputs": [
    {
     "name": "stdout",
     "output_type": "stream",
     "text": [
      "\"The five boxing wizards jump quickly\"\n",
      "\n",
      "Yeay! Congratulation! Your sentence is Pangram.\n"
     ]
    }
   ],
   "source": [
    "def PangramOrNot(p):\n",
    "    List = []\n",
    "# untuk membuat list dari 26 karakter alfabet dan mengatur entri False\n",
    "    for i in range(26):\n",
    "        List.append(False)\n",
    "        \n",
    "    # mengkonversikan kalimat ke huruf kecil dan mengiterasi\n",
    "    # melalui kalimat yang nantinya akan dibuat\n",
    "    for n in p.lower():\n",
    "        if not n == \" \":\n",
    "            \n",
    "            # membuat entri ketika sesuai akan menjadi True\n",
    "            List[ord(n) - ord('a')] = True\n",
    "            \n",
    "    # untuk memeriksa apakah ada karakter yang hilang, jika iya akan menampilkan False\n",
    "    for character in List:\n",
    "        if character == False:\n",
    "            return False\n",
    "    return True\n",
    "\n",
    "# sebuah program untuk untuk menguji fungsi\n",
    "sentencePangramOrNot = \"The five boxing wizards jump quickly\"\n",
    "\n",
    "if (PangramOrNot(sentencePangramOrNot)):\n",
    "    print('\"'+sentencePangramOrNot+'\"')\n",
    "    print(\"\\nYeay! Congratulation! Your sentence is Pangram.\")\n",
    "else:\n",
    "    print('\"'+sentencePangramOrNot+'\"')\n",
    "    print(\"\\nNo!No!No! It's okay nice try, your sentence is not Pangram\")"
   ]
  }
 ],
 "metadata": {
  "kernelspec": {
   "display_name": "Python 3 (ipykernel)",
   "language": "python",
   "name": "python3"
  },
  "language_info": {
   "codemirror_mode": {
    "name": "ipython",
    "version": 3
   },
   "file_extension": ".py",
   "mimetype": "text/x-python",
   "name": "python",
   "nbconvert_exporter": "python",
   "pygments_lexer": "ipython3",
   "version": "3.9.13"
  }
 },
 "nbformat": 4,
 "nbformat_minor": 5
}
