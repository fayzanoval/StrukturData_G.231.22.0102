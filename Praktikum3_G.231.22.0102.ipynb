{
 "cells": [
  {
   "cell_type": "code",
   "execution_count": 1,
   "id": "0a97bbaf",
   "metadata": {},
   "outputs": [
    {
     "name": "stdout",
     "output_type": "stream",
     "text": [
      "geeksforgeeks\n"
     ]
    }
   ],
   "source": [
    "def convert(s):\n",
    "    new = \"\"\n",
    "    for x in s:\n",
    "        new += x\n",
    "        \n",
    "    return new\n",
    "\n",
    "# driver code\n",
    "s = ['g', 'e', 'e', 'k', 's', 'f', 'o', 'r', 'g', 'e', 'e', 'k', 's']\n",
    "print(convert(s))"
   ]
  },
  {
   "cell_type": "code",
   "execution_count": 3,
   "id": "95c0f50e",
   "metadata": {},
   "outputs": [
    {
     "name": "stdout",
     "output_type": "stream",
     "text": [
      "programming\n"
     ]
    }
   ],
   "source": [
    "def convert(s):\n",
    "    prog = \"\"\n",
    "    for x in dictchar:\n",
    "        prog += x\n",
    "        \n",
    "    return prog\n",
    "\n",
    "dictchar = ['p', 'r', 'o', 'g', 'r', 'a', 'm', 'm', 'i', 'n', 'g']\n",
    "print(convert(dictchar))"
   ]
  }
 ],
 "metadata": {
  "kernelspec": {
   "display_name": "Python 3 (ipykernel)",
   "language": "python",
   "name": "python3"
  },
  "language_info": {
   "codemirror_mode": {
    "name": "ipython",
    "version": 3
   },
   "file_extension": ".py",
   "mimetype": "text/x-python",
   "name": "python",
   "nbconvert_exporter": "python",
   "pygments_lexer": "ipython3",
   "version": "3.9.13"
  }
 },
 "nbformat": 4,
 "nbformat_minor": 5
}
