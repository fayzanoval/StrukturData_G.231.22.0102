{
 "cells": [
  {
   "cell_type": "code",
   "execution_count": 6,
   "id": "76140de8",
   "metadata": {},
   "outputs": [
    {
     "name": "stdout",
     "output_type": "stream",
     "text": [
      "Shortest distances from node 0:\n",
      "To node 0: 0\n",
      "To node 1: 4\n",
      "To node 2: 12\n",
      "To node 3: 19\n",
      "To node 4: 21\n",
      "To node 5: 11\n",
      "To node 6: 9\n",
      "To node 7: 8\n",
      "To node 8: 14\n"
     ]
    }
   ],
   "source": [
    "# UAS PRAKTIKUM \"DIJKSTRA SHORTEST PATH 2\"\n",
    "# FayzaNovalFausta_G.231.22.0102\n",
    "\n",
    "import heapq #Mengimpor modul 'heapq'\n",
    "\n",
    "#Menginisialisasi jarak ke setiap node dengan nilai tak terhingga, kecuali start node\n",
    "def dijkstra(graph, start):\n",
    "    distances = {node: float('infinity') for node in graph}\n",
    "    distances[start] = 0  \n",
    "\n",
    "    #Menginisialisasi antrian prioritas dengan node start dan jarak o\n",
    "    priority_queue = [(0, start)]\n",
    "\n",
    "    \n",
    "    while priority_queue:\n",
    "        current_distance, current_node = heapq.heappop(priority_queue)\n",
    "\n",
    "        #Melanjutkan jika telah menemukan jarak yang lebih kecil dari sebelumnya\n",
    "        if current_distance > distances[current_node]:\n",
    "            continue\n",
    "\n",
    "        #Mengiterasi melalu node lain yang ada\n",
    "        for neighbor, weight in graph[current_node].items():\n",
    "            distance = current_distance + weight\n",
    "\n",
    "            #Mengupdate jarak jika menemukan jarak yang lebih pendek\n",
    "            if distance < distances[neighbor]:\n",
    "                distances[neighbor] = distance\n",
    "                heapq.heappush(priority_queue, (distance, neighbor))\n",
    "\n",
    "    return distances\n",
    "\n",
    "\n",
    "graph = {\n",
    "    '0': {'1': 4, '7': 8},\n",
    "    '1': {'0': 4, '2': 8, '7': 11},\n",
    "    '2': {'1': 8, '3': 7, '5': 4, '8': 2},\n",
    "    '3': {'2': 7, '4': 9, '5': 14},\n",
    "    '4': {'3': 9, '5': 10},\n",
    "    '5': {'2': 4, '3': 14, '4': 10, '6': 2},\n",
    "    '6': {'5': 2, '7': 1, '8': 6},\n",
    "    '7': {'0': 8, '1': 11, '6': 1, '8': 7},\n",
    "    '8': {'2': 2, '6': 6, '7': 7}\n",
    "}\n",
    "\n",
    "start_node = '0' #Menetapkan 0 sebagai node awal\n",
    "result = dijkstra(graph, start_node) #Memanggil fungsi 'dijkstra' untuk mendapatkan jalur terpendek\n",
    "\n",
    "#Menampilkan output berupa jarak terpendek dari node awal ke node lainnya\n",
    "print(f\"Shortest distances from node {start_node}:\")\n",
    "for node, distance in result.items():\n",
    "    print(f\"To node {node}: {distance}\")\n"
   ]
  }
 ],
 "metadata": {
  "kernelspec": {
   "display_name": "Python 3 (ipykernel)",
   "language": "python",
   "name": "python3"
  },
  "language_info": {
   "codemirror_mode": {
    "name": "ipython",
    "version": 3
   },
   "file_extension": ".py",
   "mimetype": "text/x-python",
   "name": "python",
   "nbconvert_exporter": "python",
   "pygments_lexer": "ipython3",
   "version": "3.9.13"
  }
 },
 "nbformat": 4,
 "nbformat_minor": 5
}
